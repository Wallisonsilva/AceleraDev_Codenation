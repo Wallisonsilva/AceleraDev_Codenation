{
 "cells": [
  {
   "cell_type": "markdown",
   "metadata": {},
   "source": [
    "# Desafio 4\n",
    "\n",
    "Neste desafio, vamos praticar um pouco sobre testes de hipóteses. Utilizaremos o _data set_ [2016 Olympics in Rio de Janeiro](https://www.kaggle.com/rio2016/olympic-games/), que contém dados sobre os atletas das Olimpíadas de 2016 no Rio de Janeiro.\n",
    "\n",
    "Esse _data set_ conta com informações gerais sobre 11538 atletas como nome, nacionalidade, altura, peso e esporte praticado. Estaremos especialmente interessados nas variáveis numéricas altura (`height`) e peso (`weight`). As análises feitas aqui são parte de uma Análise Exploratória de Dados (EDA).\n",
    "\n",
    "> Obs.: Por favor, não modifique o nome das funções de resposta."
   ]
  },
  {
   "cell_type": "markdown",
   "metadata": {},
   "source": [
    "## _Setup_ geral"
   ]
  },
  {
   "cell_type": "code",
   "execution_count": 14,
   "metadata": {},
   "outputs": [],
   "source": [
    "import pandas as pd\n",
    "import matplotlib.pyplot as plt\n",
    "import numpy as np\n",
    "import scipy.stats as sct\n",
    "import seaborn as sns"
   ]
  },
  {
   "cell_type": "code",
   "execution_count": 86,
   "metadata": {},
   "outputs": [],
   "source": [
    "#%matplotlib inline\n",
    "\n",
    "#from IPython.core.pylabtools import figsize\n",
    "\n",
    "\n",
    "#figsize(12, 8)\n",
    "\n",
    "#sns.set()"
   ]
  },
  {
   "cell_type": "code",
   "execution_count": 7,
   "metadata": {},
   "outputs": [
    {
     "data": {
      "text/html": [
       "<div>\n",
       "<style scoped>\n",
       "    .dataframe tbody tr th:only-of-type {\n",
       "        vertical-align: middle;\n",
       "    }\n",
       "\n",
       "    .dataframe tbody tr th {\n",
       "        vertical-align: top;\n",
       "    }\n",
       "\n",
       "    .dataframe thead th {\n",
       "        text-align: right;\n",
       "    }\n",
       "</style>\n",
       "<table border=\"1\" class=\"dataframe\">\n",
       "  <thead>\n",
       "    <tr style=\"text-align: right;\">\n",
       "      <th></th>\n",
       "      <th>id</th>\n",
       "      <th>name</th>\n",
       "      <th>nationality</th>\n",
       "      <th>sex</th>\n",
       "      <th>date_of_birth</th>\n",
       "      <th>height</th>\n",
       "      <th>weight</th>\n",
       "      <th>sport</th>\n",
       "      <th>gold</th>\n",
       "      <th>silver</th>\n",
       "      <th>bronze</th>\n",
       "      <th>info</th>\n",
       "    </tr>\n",
       "  </thead>\n",
       "  <tbody>\n",
       "    <tr>\n",
       "      <th>0</th>\n",
       "      <td>736041664</td>\n",
       "      <td>A Jesus Garcia</td>\n",
       "      <td>ESP</td>\n",
       "      <td>male</td>\n",
       "      <td>1969-10-17</td>\n",
       "      <td>1.72</td>\n",
       "      <td>64.0</td>\n",
       "      <td>athletics</td>\n",
       "      <td>0</td>\n",
       "      <td>0</td>\n",
       "      <td>0</td>\n",
       "      <td>NaN</td>\n",
       "    </tr>\n",
       "    <tr>\n",
       "      <th>1</th>\n",
       "      <td>532037425</td>\n",
       "      <td>A Lam Shin</td>\n",
       "      <td>KOR</td>\n",
       "      <td>female</td>\n",
       "      <td>1986-09-23</td>\n",
       "      <td>1.68</td>\n",
       "      <td>56.0</td>\n",
       "      <td>fencing</td>\n",
       "      <td>0</td>\n",
       "      <td>0</td>\n",
       "      <td>0</td>\n",
       "      <td>NaN</td>\n",
       "    </tr>\n",
       "    <tr>\n",
       "      <th>2</th>\n",
       "      <td>435962603</td>\n",
       "      <td>Aaron Brown</td>\n",
       "      <td>CAN</td>\n",
       "      <td>male</td>\n",
       "      <td>1992-05-27</td>\n",
       "      <td>1.98</td>\n",
       "      <td>79.0</td>\n",
       "      <td>athletics</td>\n",
       "      <td>0</td>\n",
       "      <td>0</td>\n",
       "      <td>1</td>\n",
       "      <td>NaN</td>\n",
       "    </tr>\n",
       "    <tr>\n",
       "      <th>3</th>\n",
       "      <td>521041435</td>\n",
       "      <td>Aaron Cook</td>\n",
       "      <td>MDA</td>\n",
       "      <td>male</td>\n",
       "      <td>1991-01-02</td>\n",
       "      <td>1.83</td>\n",
       "      <td>80.0</td>\n",
       "      <td>taekwondo</td>\n",
       "      <td>0</td>\n",
       "      <td>0</td>\n",
       "      <td>0</td>\n",
       "      <td>NaN</td>\n",
       "    </tr>\n",
       "    <tr>\n",
       "      <th>4</th>\n",
       "      <td>33922579</td>\n",
       "      <td>Aaron Gate</td>\n",
       "      <td>NZL</td>\n",
       "      <td>male</td>\n",
       "      <td>1990-11-26</td>\n",
       "      <td>1.81</td>\n",
       "      <td>71.0</td>\n",
       "      <td>cycling</td>\n",
       "      <td>0</td>\n",
       "      <td>0</td>\n",
       "      <td>0</td>\n",
       "      <td>NaN</td>\n",
       "    </tr>\n",
       "  </tbody>\n",
       "</table>\n",
       "</div>"
      ],
      "text/plain": [
       "          id            name nationality     sex date_of_birth  height  \\\n",
       "0  736041664  A Jesus Garcia         ESP    male    1969-10-17    1.72   \n",
       "1  532037425      A Lam Shin         KOR  female    1986-09-23    1.68   \n",
       "2  435962603     Aaron Brown         CAN    male    1992-05-27    1.98   \n",
       "3  521041435      Aaron Cook         MDA    male    1991-01-02    1.83   \n",
       "4   33922579      Aaron Gate         NZL    male    1990-11-26    1.81   \n",
       "\n",
       "   weight      sport  gold  silver  bronze info  \n",
       "0    64.0  athletics     0       0       0  NaN  \n",
       "1    56.0    fencing     0       0       0  NaN  \n",
       "2    79.0  athletics     0       0       1  NaN  \n",
       "3    80.0  taekwondo     0       0       0  NaN  \n",
       "4    71.0    cycling     0       0       0  NaN  "
      ]
     },
     "execution_count": 7,
     "metadata": {},
     "output_type": "execute_result"
    }
   ],
   "source": [
    "athletes = pd.read_csv(\"https://raw.githubusercontent.com/flother/rio2016/master/athletes.csv\", sep =',')\n",
    "athletes.head()"
   ]
  },
  {
   "cell_type": "code",
   "execution_count": 8,
   "metadata": {},
   "outputs": [],
   "source": [
    "def get_sample(df, col_name, n=100, seed=42):\n",
    "    \"\"\"Get a sample from a column of a dataframe.\n",
    "    \n",
    "    It drops any numpy.nan entries before sampling. The sampling\n",
    "    is performed without replacement.\n",
    "    \n",
    "    Example of numpydoc for those who haven't seen yet.\n",
    "    \n",
    "    Parameters\n",
    "    ----------\n",
    "    df : pandas.DataFrame\n",
    "        Source dataframe.\n",
    "    col_name : str\n",
    "        Name of the column to be sampled.\n",
    "    n : int\n",
    "        Sample size. Default is 100.\n",
    "    seed : int\n",
    "        Random seed. Default is 42.\n",
    "    \n",
    "    Returns\n",
    "    -------\n",
    "    pandas.Series\n",
    "        Sample of size n from dataframe's column.\n",
    "    \"\"\"\n",
    "    np.random.seed(seed)\n",
    "    \n",
    "    random_idx = np.random.choice(df[col_name].dropna().index, size=n, replace=False)\n",
    "    \n",
    "    return df.loc[random_idx, col_name]"
   ]
  },
  {
   "cell_type": "markdown",
   "metadata": {},
   "source": [
    "## Inicia sua análise a partir daqui"
   ]
  },
  {
   "cell_type": "code",
   "execution_count": 5,
   "metadata": {},
   "outputs": [],
   "source": [
    "# Sua análise começa aqui.\n"
   ]
  },
  {
   "cell_type": "markdown",
   "metadata": {},
   "source": [
    "## Questão 1\n",
    "\n",
    "Considerando uma amostra de tamanho 3000 da coluna `height` obtida com a função `get_sample()`, execute o teste de normalidade de Shapiro-Wilk com a função `scipy.stats.shapiro()`. Podemos afirmar que as alturas são normalmente distribuídas com base nesse teste (ao nível de significância de 5%)? Responda com um boolean (`True` ou `False`)."
   ]
  },
  {
   "cell_type": "code",
   "execution_count": 89,
   "metadata": {},
   "outputs": [
    {
     "data": {
      "text/plain": [
       "False"
      ]
     },
     "execution_count": 89,
     "metadata": {},
     "output_type": "execute_result"
    }
   ],
   "source": [
    "def q1():\n",
    "    df = get_sample(athletes, 'height', n=3000, seed=42)\n",
    "    w, p_value = sct.shapiro(df)\n",
    "    return bool(p_value >=0.05)"
   ]
  },
  {
   "cell_type": "markdown",
   "metadata": {},
   "source": [
    "__Para refletir__:\n",
    "\n",
    "* Plote o histograma dessa variável (com, por exemplo, `bins=25`). A forma do gráfico e o resultado do teste são condizentes? Por que?\n",
    "* Plote o qq-plot para essa variável e a analise.\n",
    "* Existe algum nível de significância razoável que nos dê outro resultado no teste? (Não faça isso na prática. Isso é chamado _p-value hacking_, e não é legal)."
   ]
  },
  {
   "cell_type": "markdown",
   "metadata": {},
   "source": [
    "## Questão 2\n",
    "\n",
    "Repita o mesmo procedimento acima, mas agora utilizando o teste de normalidade de Jarque-Bera através da função `scipy.stats.jarque_bera()`. Agora podemos afirmar que as alturas são normalmente distribuídas (ao nível de significância de 5%)? Responda com um boolean (`True` ou `False`)."
   ]
  },
  {
   "cell_type": "code",
   "execution_count": 90,
   "metadata": {},
   "outputs": [],
   "source": [
    "def q2():\n",
    "    df = get_sample(athletes, 'height', n=3000, seed=42)\n",
    "    jb_value, p_value = sct.jarque_bera(df)\n",
    "    return bool(p_value >= 0.05)"
   ]
  },
  {
   "cell_type": "markdown",
   "metadata": {},
   "source": [
    "__Para refletir__:\n",
    "\n",
    "* Esse resultado faz sentido?"
   ]
  },
  {
   "cell_type": "markdown",
   "metadata": {},
   "source": [
    "## Questão 3\n",
    "\n",
    "Considerando agora uma amostra de tamanho 3000 da coluna `weight` obtida com a função `get_sample()`. Faça o teste de normalidade de D'Agostino-Pearson utilizando a função `scipy.stats.normaltest()`. Podemos afirmar que os pesos vêm de uma distribuição normal ao nível de significância de 5%? Responda com um boolean (`True` ou `False`)."
   ]
  },
  {
   "cell_type": "code",
   "execution_count": 91,
   "metadata": {},
   "outputs": [],
   "source": [
    "def q3():\n",
    "    df = get_sample(athletes, 'weight', n=3000, seed=42)\n",
    "    alpha = 0\n",
    "    stats, p_value = sct.normaltest(df)\n",
    "    return bool(p_value >= 0.05)"
   ]
  },
  {
   "cell_type": "markdown",
   "metadata": {},
   "source": [
    "__Para refletir__:\n",
    "\n",
    "* Plote o histograma dessa variável (com, por exemplo, `bins=25`). A forma do gráfico e o resultado do teste são condizentes? Por que?\n",
    "* Um _box plot_ também poderia ajudar a entender a resposta."
   ]
  },
  {
   "cell_type": "markdown",
   "metadata": {},
   "source": [
    "## Questão 4\n",
    "\n",
    "Realize uma transformação logarítmica em na amostra de `weight` da questão 3 e repita o mesmo procedimento. Podemos afirmar a normalidade da variável transformada ao nível de significância de 5%? Responda com um boolean (`True` ou `False`)."
   ]
  },
  {
   "cell_type": "code",
   "execution_count": 92,
   "metadata": {},
   "outputs": [],
   "source": [
    "def q4():\n",
    "    df = get_sample(athletes, 'weight', n=3000, seed=42)\n",
    "    df_log = np.log(df)\n",
    "    stats, p_value = sct.normaltest(df_log)\n",
    "    return bool(p_value >= 0.05)"
   ]
  },
  {
   "cell_type": "markdown",
   "metadata": {},
   "source": [
    "__Para refletir__:\n",
    "\n",
    "* Plote o histograma dessa variável (com, por exemplo, `bins=25`). A forma do gráfico e o resultado do teste são condizentes? Por que?\n",
    "* Você esperava um resultado diferente agora?"
   ]
  },
  {
   "cell_type": "markdown",
   "metadata": {},
   "source": [
    "> __Para as questão 5 6 e 7 a seguir considere todos testes efetuados ao nível de significância de 5%__."
   ]
  },
  {
   "cell_type": "markdown",
   "metadata": {},
   "source": [
    "## Questão 5\n",
    "\n",
    "Obtenha todos atletas brasileiros, norte-americanos e canadenses em `DataFrame`s chamados `bra`, `usa` e `can`,respectivamente. Realize um teste de hipóteses para comparação das médias das alturas (`height`) para amostras independentes e variâncias diferentes com a função `scipy.stats.ttest_ind()` entre `bra` e `usa`. Podemos afirmar que as médias são estatisticamente iguais? Responda com um boolean (`True` ou `False`)."
   ]
  },
  {
   "cell_type": "code",
   "execution_count": 112,
   "metadata": {},
   "outputs": [],
   "source": [
    "def q5():\n",
    "    countrys = ['BRA', 'USA', 'CAN']\n",
    "    df = athletes[athletes['nationality'].isin(countrys)]\n",
    "    bra = df[df['nationality']==countrys[0]]['height']\n",
    "    usa = df[df['nationality']==countrys[1]]['height']\n",
    "    stats, p_value = sct.ttest_ind(bra, usa, equal_var = False, nan_policy='omit')\n",
    "    return bool(p_value >= 0.05)"
   ]
  },
  {
   "cell_type": "markdown",
   "metadata": {},
   "source": [
    "## Questão 6\n",
    "\n",
    "Repita o procedimento da questão 5, mas agora entre as alturas de `bra` e `can`. Podemos afimar agora que as médias são estatisticamente iguais? Reponda com um boolean (`True` ou `False`)."
   ]
  },
  {
   "cell_type": "code",
   "execution_count": 113,
   "metadata": {},
   "outputs": [],
   "source": [
    "def q6():\n",
    "    countrys = ['BRA', 'USA', 'CAN']\n",
    "    df = athletes[athletes['nationality'].isin(countrys)]\n",
    "    bra = df[df['nationality']==countrys[0]]['height']\n",
    "    can = df[df['nationality']==countrys[2]]['height']\n",
    "    stats, p_value = sct.ttest_ind(bra, can, equal_var = False, nan_policy='omit')\n",
    "    return bool(p_value >= 0.05)"
   ]
  },
  {
   "cell_type": "markdown",
   "metadata": {},
   "source": [
    "## Questão 7\n",
    "\n",
    "Repita o procedimento da questão 6, mas agora entre as alturas de `usa` e `can`. Qual o valor do p-valor retornado? Responda como um único escalar arredondado para oito casas decimais."
   ]
  },
  {
   "cell_type": "code",
   "execution_count": 115,
   "metadata": {},
   "outputs": [
    {
     "data": {
      "text/plain": [
       "0.00046601"
      ]
     },
     "execution_count": 115,
     "metadata": {},
     "output_type": "execute_result"
    }
   ],
   "source": [
    "def q7():\n",
    "    countrys = ['BRA', 'USA', 'CAN']\n",
    "    df = athletes[athletes['nationality'].isin(countrys)]\n",
    "    usa = df[df['nationality']==countrys[1]]['height']\n",
    "    can = df[df['nationality']==countrys[2]]['height']\n",
    "    stats, p_value = sct.ttest_ind(usa, can, equal_var = False, nan_policy='omit')\n",
    "    return float(round(p_value,8))\n",
    "q7()"
   ]
  },
  {
   "cell_type": "markdown",
   "metadata": {},
   "source": [
    "__Para refletir__:\n",
    "\n",
    "* O resultado faz sentido?\n",
    "* Você consegue interpretar esse p-valor?\n",
    "* Você consegue chegar a esse valor de p-valor a partir da variável de estatística?"
   ]
  },
  {
   "cell_type": "code",
   "execution_count": null,
   "metadata": {},
   "outputs": [],
   "source": []
  }
 ],
 "metadata": {
  "kernelspec": {
   "display_name": "Python 3",
   "language": "python",
   "name": "python3"
  },
  "language_info": {
   "codemirror_mode": {
    "name": "ipython",
    "version": 3
   },
   "file_extension": ".py",
   "mimetype": "text/x-python",
   "name": "python",
   "nbconvert_exporter": "python",
   "pygments_lexer": "ipython3",
   "version": "3.7.6"
  }
 },
 "nbformat": 4,
 "nbformat_minor": 4
}
